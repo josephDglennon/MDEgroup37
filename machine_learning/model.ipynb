{
 "cells": [
  {
   "cell_type": "markdown",
   "metadata": {},
   "source": [
    "Authors:\n",
    "Jai Deshmukh, Logan Um, Mitchell Kuhns, Joseph Glennon, Jackson Burns\n",
    "\n",
    "Team: Virginia Tech S24-37, Battleship Damage Indicator/Assessment"
   ]
  },
  {
   "cell_type": "code",
   "execution_count": null,
   "metadata": {},
   "outputs": [],
   "source": [
    "import os"
   ]
  },
  {
   "cell_type": "code",
   "execution_count": null,
   "metadata": {},
   "outputs": [],
   "source": [
    "def list_files_in_folder(folder_path):\n",
    "    try:\n",
    "        \n",
    "        files = os.listdir(folder_path)\n",
    "\n",
    "        for file in files:\n",
    "            print(file)\n",
    "\n",
    "    except FileNotFoundError:\n",
    "        print(\"The folder does not exist or can't be accessed.\")"
   ]
  },
  {
   "cell_type": "code",
   "execution_count": null,
   "metadata": {},
   "outputs": [],
   "source": [
    "folder_path = os.path.join(os.path.dirname(__file__), 'data') # need to import from ARC systems \n",
    "\n",
    "list_files_in_folder(folder_path)"
   ]
  }
 ],
 "metadata": {
  "kernelspec": {
   "display_name": "Python 3",
   "language": "python",
   "name": "python3"
  },
  "language_info": {
   "name": "python",
   "version": "3.10.4"
  }
 },
 "nbformat": 4,
 "nbformat_minor": 2
}
